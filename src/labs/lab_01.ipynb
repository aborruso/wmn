{
 "cells": [
  {
   "cell_type": "markdown",
   "metadata": {},
   "source": [
    "# Lab 1 - Getting up to speed\n",
    "\n",
    "This lab has two main parts. In the first one, we will make sure you are signed up for all the services we will be using throughout the course. This way, when the time comes, you'll be ready to go and will be able to jump into the task right away. In the second part, we will introduce/refresh the Jupyter Notebook, a file format that is common in scientific computing and that allows us to combine formatted text with code and rich content from the web such as image, video, or interactive maps.\n",
    "\n",
    "## Sign up for relevant services\n",
    "\n",
    "Much of the practical aspect of this course will rely on web products that provide functionality through the internet. Every service we will use in class has at least a free tier, but you will need to sign up before hand.\n",
    "\n",
    "Here is a list of the services you will need to register:\n",
    "\n",
    "- [`CDRC Data`](http://data.cdrc.ac.uk/): we will use some of the data provided by the CDRC, so a (free) account with them will be necessary.\n",
    "- [`CARTO`](https://carto.com/): CARTO provides an online platform for web mapping and location intelligence. They have a free tier that you can try for a limited amount of time, but the Geographic Data Science Lab has a subscription that will allow you to use it beyond the basic allowance. Do not sign up for the free account but instead make sure you have received the invite from the module leader.\n",
    "- [`Mapbox`](https://www.mapbox.com/): Mapbox is one of the industry leaders in web mapping. Their free tier is rather generous so will more than suffice for what we will do within the course. You can sign up for a new (free) account [here](https://account.mapbox.com/auth/signup/).\n",
    "\n",
    "In addition, below is a list of software we will also rely on during the course. They are all free and open-source, so you should be able to install them on your own laptop as well:\n",
    "\n",
    "- [`QGIS`](https://qgis.org/en/site/): the stable version (3.4 at the time of writing) is OK, any more recent version will also work. If you use a version older than 3.8, please make sure you also have installed the [`XYZ Tiles` plugin](https://github.com/lutraconsulting/qgis-xyz-tiles).\n",
    "- `Python`: at parts of the course, we will rely on Python to read, manipulate and write geospatial data. There are several libraries required, all of them shared with the [`GDS'19`](http://darribas.org/gds19/) course so, if you have a stack installed for it, you should be fine. If not, checkout the [install instructions](http://darribas.org/gds19/software.html).\n",
    "- `R`: we will not require it in the course but, if you are a fan of the statistical platform R, we will explore a bit how R can be linked to web mapping. This is an optional install.\n"
   ]
  },
  {
   "cell_type": "markdown",
   "metadata": {},
   "source": [
    "## The Jupyter Notebook"
   ]
  },
  {
   "cell_type": "code",
   "execution_count": 1,
   "metadata": {},
   "outputs": [],
   "source": [
    "from IPython.display import Image"
   ]
  },
  {
   "cell_type": "markdown",
   "metadata": {},
   "source": [
    "---\n",
    "\n",
    "***Cells***"
   ]
  },
  {
   "cell_type": "markdown",
   "metadata": {},
   "source": [
    "The main building block of notebooks are cells. These are chunks of the same time of content which can be cut, pasted, and moved around in a notebook. Cells can be of two types:\n",
    "\n",
    "* **Text**, like the one where this is written.\n",
    "* **Code**, like the following one below:"
   ]
  },
  {
   "cell_type": "code",
   "execution_count": 2,
   "metadata": {},
   "outputs": [],
   "source": [
    "# This is a code cell"
   ]
  },
  {
   "cell_type": "markdown",
   "metadata": {},
   "source": [
    "For example, you can create a new cell by searching for \"Insert Cell\". By default, this will be a code cell, but you can change that on the `Cell` -> `Cell Type` menu. Choose `Markdown` for a text cell. Once a new cell is created, you can edit it by clicking on it, which will create the cursor bar inside for you to start typing.\n",
    "\n",
    "**Pro tip!**: cells can also be created with shortcuts. If you press `<escape>` and then `b` (`a`), a new cell will be created below (above). There is a whole bunch of shortcuts you can explore by pressing `<escape>` and `h` (press `<escape>` again to leave the help)."
   ]
  },
  {
   "cell_type": "markdown",
   "metadata": {},
   "source": [
    "---\n",
    "\n",
    "***Code and its output***\n",
    "\n",
    "A particularly useful feature of notebooks is that you can save, in the same place, the code you use to generate any output (tables, figures, etc.). As an example, the cell below contains a snipet of Python that returns a printed statement. This statement is then printed below and recorded in the notebook as output:"
   ]
  },
  {
   "cell_type": "code",
   "execution_count": 3,
   "metadata": {},
   "outputs": [
    {
     "name": "stdout",
     "output_type": "stream",
     "text": [
      "Hello world!!!\n"
     ]
    }
   ],
   "source": [
    "print(\"Hello world!!!\")"
   ]
  },
  {
   "cell_type": "markdown",
   "metadata": {},
   "source": [
    "Note also how the notebook has automatic syntax highlighting support for Python. This makes the code much more readable and understandable. More on Python below."
   ]
  },
  {
   "cell_type": "markdown",
   "metadata": {},
   "source": [
    "--- \n",
    "\n",
    "***Markdown***"
   ]
  },
  {
   "cell_type": "markdown",
   "metadata": {},
   "source": [
    "Text cells in a notebook use the [Github Flavored Markdown](https://help.github.com/articles/github-flavored-markdown/) markup language. This means you can write plain text with some rules and the notebook renders a more visually appealing version of it. Let's see some examples:\n",
    "\n",
    "* **BOLD**:\n",
    "\n",
    "`This is **bold**.`\n",
    "\n",
    "Is rendered:\n",
    "\n",
    "This is **bold**.\n",
    "\n",
    "* **ITALIC**:\n",
    "\n",
    "`This is *italic*.`\n",
    "\n",
    "Is rendered:\n",
    "\n",
    "This is *italic*.\n",
    "\n",
    "* **LISTS**:\n",
    "\n",
    "You can create unnumbered lists:\n",
    "\n",
    "```\n",
    "* Item 1\n",
    "* Item 2\n",
    "* ...\n",
    "```\n",
    "\n",
    "Which will produce:\n",
    "\n",
    "* Item 1\n",
    "* Item 2\n",
    "* ...\n",
    "\n",
    "Or you can create numbered lists:\n",
    "\n",
    "```\n",
    "1. First element\n",
    "1. Second element\n",
    "1. ...\n",
    "```\n",
    "\n",
    "And get:\n",
    "\n",
    "1. First element\n",
    "1. Second element\n",
    "1. ...\n",
    "\n",
    "Note that you don't have to write the actual number of the element, just using `1.` always produces a numbered list.\n",
    "\n",
    "You can also nest lists:\n",
    "\n",
    "```\n",
    "* First unnumbered element, which can be split into:\n",
    "\n",
    "    1. One numbered element\n",
    "    2. Another numbered element\n",
    "\n",
    "* Second element.\n",
    "* ...\n",
    "```\n",
    "\n",
    "* First unnumbered element, which can be split into:\n",
    "\n",
    "    1. One numbered element\n",
    "    2. Another numbered element\n",
    "\n",
    "* Second element.\n",
    "* ...\n",
    "\n",
    "This creates many oportunities to combine things nicely.\n",
    "\n",
    "* **LINKS**\n",
    "\n",
    "`You can easily create hyperlinks, for example to [WikiPedia](https://www.wikipedia.org/). `\n",
    "\n",
    "You can easily create hyperlinks, for example to [WikiPedia](https://www.wikipedia.org/).\n",
    "\n",
    "* **HEADINGS**: including `#` before a line causes it to render a heading.\n",
    "\n",
    "---\n",
    "\n",
    "`# This is Header 1`\n",
    "\n",
    "Turns into:\n",
    "\n",
    "# This is Header 1\n",
    "\n",
    "---\n",
    "\n",
    "`## This is Header 2`\n",
    "\n",
    "Turns into:\n",
    "\n",
    "## This is Header 2\n",
    "\n",
    "And so on...\n",
    "\n",
    "---\n",
    "\n",
    "You can see a more in detail introduction in the following links:\n",
    "\n",
    "> https://help.github.com/articles/markdown-basics/\n",
    "\n",
    "> https://help.github.com/articles/github-flavored-markdown/"
   ]
  },
  {
   "cell_type": "markdown",
   "metadata": {},
   "source": [
    "---\n",
    "\n",
    "***Rich content in a notebook***"
   ]
  },
  {
   "cell_type": "markdown",
   "metadata": {},
   "source": [
    "Notebooks can also include rich content from the web. For that, we need to import the `display` module:"
   ]
  },
  {
   "cell_type": "code",
   "execution_count": 4,
   "metadata": {},
   "outputs": [],
   "source": [
    "import IPython.display as display"
   ]
  },
  {
   "cell_type": "markdown",
   "metadata": {},
   "source": [
    "This makes available additional functionality that allows us to embed rich content. For example, we can include a YouTube clip easily by passing it's ID:"
   ]
  },
  {
   "cell_type": "code",
   "execution_count": 5,
   "metadata": {},
   "outputs": [
    {
     "data": {
      "image/jpeg": "[encoded data removed]",
      "text/html": [
       "\n",
       "        <iframe\n",
       "            width=\"400\"\n",
       "            height=\"300\"\n",
       "            src=\"https://www.youtube.com/embed/iinQDhsdE9s\"\n",
       "            frameborder=\"0\"\n",
       "            allowfullscreen\n",
       "        ></iframe>\n",
       "        "
      ],
      "text/plain": [
       "<IPython.lib.display.YouTubeVideo at 0x7ff8184810f0>"
      ]
     },
     "execution_count": 5,
     "metadata": {},
     "output_type": "execute_result"
    }
   ],
   "source": [
    "display.YouTubeVideo('iinQDhsdE9s')"
   ]
  },
  {
   "cell_type": "markdown",
   "metadata": {},
   "source": [
    "Or we can pass standard HTML code:"
   ]
  },
  {
   "cell_type": "code",
   "execution_count": 6,
   "metadata": {},
   "outputs": [
    {
     "data": {
      "text/html": [
       "<table>\n",
       "<tr>\n",
       "<th>Header 1</th>\n",
       "<th>Header 2</th>\n",
       "</tr>\n",
       "<tr>\n",
       "<td>row 1, cell 1</td>\n",
       "<td>row 1, cell 2</td>\n",
       "</tr>\n",
       "<tr>\n",
       "<td>row 2, cell 1</td>\n",
       "<td>row 2, cell 2</td>\n",
       "</tr>\n",
       "</table>"
      ],
      "text/plain": [
       "<IPython.core.display.HTML object>"
      ]
     },
     "execution_count": 6,
     "metadata": {},
     "output_type": "execute_result"
    }
   ],
   "source": [
    "display.HTML(\"\"\"<table>\n",
    "<tr>\n",
    "<th>Header 1</th>\n",
    "<th>Header 2</th>\n",
    "</tr>\n",
    "<tr>\n",
    "<td>row 1, cell 1</td>\n",
    "<td>row 1, cell 2</td>\n",
    "</tr>\n",
    "<tr>\n",
    "<td>row 2, cell 1</td>\n",
    "<td>row 2, cell 2</td>\n",
    "</tr>\n",
    "</table>\"\"\")"
   ]
  },
  {
   "cell_type": "markdown",
   "metadata": {},
   "source": [
    "Note that this opens the door for including a large number of elements from the web, as an `iframe` is also allowed. For example, interactive maps can be included:"
   ]
  },
  {
   "cell_type": "code",
   "execution_count": 7,
   "metadata": {},
   "outputs": [
    {
     "data": {
      "text/html": [
       "\n",
       "<iframe width=\"425\" height=\"350\" frameborder=\"0\" scrolling=\"no\" marginheight=\"0\" marginwidth=\"0\" src=\"http://www.openstreetmap.org/export/embed.html?bbox=-2.9662737250328064%2C53.400500637844594%2C-2.964626848697662%2C53.402550738394034&amp;layer=mapnik\" style=\"border: 1px solid black\"></iframe><br/><small><a href=\"http://www.openstreetmap.org/#map=19/53.40153/-2.96545\">View Larger Map</a></small>\n"
      ],
      "text/plain": [
       "<IPython.core.display.HTML object>"
      ]
     },
     "execution_count": 7,
     "metadata": {},
     "output_type": "execute_result"
    }
   ],
   "source": [
    "osm = \"\"\"\n",
    "<iframe width=\"425\" height=\"350\" frameborder=\"0\" scrolling=\"no\" marginheight=\"0\" marginwidth=\"0\" src=\"http://www.openstreetmap.org/export/embed.html?bbox=-2.9662737250328064%2C53.400500637844594%2C-2.964626848697662%2C53.402550738394034&amp;layer=mapnik\" style=\"border: 1px solid black\"></iframe><br/><small><a href=\"http://www.openstreetmap.org/#map=19/53.40153/-2.96545\">View Larger Map</a></small>\n",
    "\"\"\"\n",
    "display.HTML(osm)"
   ]
  },
  {
   "cell_type": "markdown",
   "metadata": {},
   "source": [
    "Or sound content:"
   ]
  },
  {
   "cell_type": "code",
   "execution_count": 8,
   "metadata": {},
   "outputs": [
    {
     "data": {
      "text/html": [
       "\n",
       "<iframe width=\"100%\" height=\"300\" scrolling=\"no\" frameborder=\"no\" allow=\"autoplay\" src=\"https://w.soundcloud.com/player/?url=https%3A//api.soundcloud.com/tracks/327114763&color=%23ff5500&auto_play=false&hide_related=false&show_comments=true&show_user=true&show_reposts=false&show_teaser=true&visual=true\"></iframe>"
      ],
      "text/plain": [
       "<IPython.core.display.HTML object>"
      ]
     },
     "execution_count": 8,
     "metadata": {},
     "output_type": "execute_result"
    }
   ],
   "source": [
    "sound = '''\n",
    "<iframe width=\"100%\" height=\"300\" scrolling=\"no\" frameborder=\"no\" allow=\"autoplay\" src=\"https://w.soundcloud.com/player/?url=https%3A//api.soundcloud.com/tracks/327114763&color=%23ff5500&auto_play=false&hide_related=false&show_comments=true&show_user=true&show_reposts=false&show_teaser=true&visual=true\"></iframe>'''\n",
    "display.HTML(sound)"
   ]
  },
  {
   "cell_type": "markdown",
   "metadata": {},
   "source": [
    "A more thorough exploration of them is available in [this](http://jeffskinnerbox.me/notebooks/ipython's-rich-display-system.html) notebook."
   ]
  },
  {
   "cell_type": "markdown",
   "metadata": {},
   "source": [
    "--- \n",
    "\n",
    "***Exercise to work on your own***"
   ]
  },
  {
   "cell_type": "markdown",
   "metadata": {},
   "source": [
    "Try to reproduce, using markdown and the different tools the notebook affords you, the following WikiPedia entry:\n",
    "\n",
    "> https://en.wikipedia.org/wiki/Chocolate_chip_cookie_dough_ice_cream\n"
   ]
  },
  {
   "cell_type": "code",
   "execution_count": 9,
   "metadata": {},
   "outputs": [
    {
     "data": {
      "text/html": [
       "\n",
       "        <iframe\n",
       "            width=\"700\"\n",
       "            height=\"500\"\n",
       "            src=\"https://en.wikipedia.org/wiki/Chocolate_chip_cookie_dough_ice_cream\"\n",
       "            frameborder=\"0\"\n",
       "            allowfullscreen\n",
       "        ></iframe>\n",
       "        "
      ],
      "text/plain": [
       "<IPython.lib.display.IFrame at 0x7ff80a7c9278>"
      ]
     },
     "execution_count": 9,
     "metadata": {},
     "output_type": "execute_result"
    }
   ],
   "source": [
    "display.IFrame('https://en.wikipedia.org/wiki/Chocolate_chip_cookie_dough_ice_cream', \n",
    "              700, 500)"
   ]
  },
  {
   "cell_type": "markdown",
   "metadata": {},
   "source": [
    "Do not over think it. Focuse and pay special attention to getting the bold, italics, links, headlines and lists correctly formated, but don't worry too much about the overall layout. Bonus if you manage to insert the image as well (it does not need to be properly placed as in the original page)!"
   ]
  }
 ],
 "metadata": {
  "kernelspec": {
   "display_name": "Python 3",
   "language": "python",
   "name": "python3"
  },
  "language_info": {
   "codemirror_mode": {
    "name": "ipython",
    "version": 3
   },
   "file_extension": ".py",
   "mimetype": "text/x-python",
   "name": "python",
   "nbconvert_exporter": "python",
   "pygments_lexer": "ipython3",
   "version": "3.7.3"
  }
 },
 "nbformat": 4,
 "nbformat_minor": 4
}
